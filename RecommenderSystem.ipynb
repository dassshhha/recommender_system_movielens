{
  "metadata": {
    "kernelspec": {
      "language": "python",
      "display_name": "Python 3",
      "name": "python3"
    },
    "language_info": {
      "name": "python",
      "version": "3.7.12",
      "mimetype": "text/x-python",
      "codemirror_mode": {
        "name": "ipython",
        "version": 3
      },
      "pygments_lexer": "ipython3",
      "nbconvert_exporter": "python",
      "file_extension": ".py"
    },
    "colab": {
      "name": "Recommender-system.ipynb",
      "provenance": []
    },
    "accelerator": "GPU"
  },
  "nbformat_minor": 0,
  "nbformat": 4,
  "cells": [
    {
      "cell_type": "code",
      "source": [
        "# !pip install pyspark"
      ],
      "metadata": {
        "execution": {
          "iopub.status.busy": "2022-04-04T15:59:08.857078Z",
          "iopub.execute_input": "2022-04-04T15:59:08.857646Z",
          "iopub.status.idle": "2022-04-04T15:59:17.999845Z",
          "shell.execute_reply.started": "2022-04-04T15:59:08.857603Z",
          "shell.execute_reply": "2022-04-04T15:59:17.998691Z"
        },
        "trusted": true,
        "id": "4RWcBJVQUo8B"
      },
      "execution_count": 34,
      "outputs": []
    },
    {
      "cell_type": "code",
      "source": [
        "# !pip install lightfm"
      ],
      "metadata": {
        "id": "0u7zFlpkVGhK"
      },
      "execution_count": 35,
      "outputs": []
    },
    {
      "cell_type": "code",
      "source": [
        "#import libraries\n",
        "import numpy as np\n",
        "import pandas as pd\n",
        "import re\n",
        "import itertools\n",
        "\n",
        "from pyspark.sql import SparkSession\n",
        "from pyspark.ml.evaluation import RegressionEvaluator\n",
        "from pyspark.ml.recommendation import ALS\n",
        "from pyspark.ml.tuning import CrossValidator, ParamGridBuilder\n",
        "\n",
        "from lightfm import LightFM\n",
        "from lightfm.data import Dataset\n",
        "from lightfm.evaluation import auc_score, precision_at_k\n",
        "from lightfm.cross_validation import random_train_test_split\n",
        "\n",
        "#choose hyperparameters\n",
        "TOP_N = 10"
      ],
      "metadata": {
        "_uuid": "8f2839f25d086af736a60e9eeb907d3b93b6e0e5",
        "_cell_guid": "b1076dfc-b9ad-4769-8c92-a6c4dae69d19",
        "execution": {
          "iopub.status.busy": "2022-04-04T15:59:18.001848Z",
          "iopub.execute_input": "2022-04-04T15:59:18.002129Z",
          "iopub.status.idle": "2022-04-04T15:59:18.009178Z",
          "shell.execute_reply.started": "2022-04-04T15:59:18.002094Z",
          "shell.execute_reply": "2022-04-04T15:59:18.008513Z"
        },
        "trusted": true,
        "id": "osDRrn4mUo8D"
      },
      "execution_count": 36,
      "outputs": []
    },
    {
      "cell_type": "code",
      "source": [
        "#import rating data and create train and test set\n",
        "df_rating = pd.read_csv('rating.csv')\n",
        "df_rating = df_rating[:30000]\n",
        "df_rating.sort_values(by='timestamp', inplace=True, ignore_index=True)\n",
        "df_rating.drop('timestamp', inplace=True, axis = 1)\n",
        "df_rating_train = df_rating[:-10000]\n",
        "df_rating_test = df_rating[-10000:].reset_index()\n",
        "df_rating_train.head()"
      ],
      "metadata": {
        "execution": {
          "iopub.status.busy": "2022-04-04T15:59:18.010690Z",
          "iopub.execute_input": "2022-04-04T15:59:18.010900Z",
          "iopub.status.idle": "2022-04-04T15:59:37.112139Z",
          "shell.execute_reply.started": "2022-04-04T15:59:18.010874Z",
          "shell.execute_reply": "2022-04-04T15:59:37.110484Z"
        },
        "trusted": true,
        "colab": {
          "base_uri": "https://localhost:8080/",
          "height": 206
        },
        "id": "k1eKgCdjUo8E",
        "outputId": "ed970077-05a3-4389-c3ba-28caa53800f0"
      },
      "execution_count": 37,
      "outputs": [
        {
          "output_type": "execute_result",
          "data": {
            "text/plain": [
              "   userId  movieId  rating\n",
              "0     172    296.0     3.0\n",
              "1     172    380.0     3.0\n",
              "2     172    150.0     3.0\n",
              "3     172    592.0     3.0\n",
              "4     172    590.0     4.0"
            ],
            "text/html": [
              "\n",
              "  <div id=\"df-8fb85030-f07d-4699-9e0d-05d2ac3a8881\">\n",
              "    <div class=\"colab-df-container\">\n",
              "      <div>\n",
              "<style scoped>\n",
              "    .dataframe tbody tr th:only-of-type {\n",
              "        vertical-align: middle;\n",
              "    }\n",
              "\n",
              "    .dataframe tbody tr th {\n",
              "        vertical-align: top;\n",
              "    }\n",
              "\n",
              "    .dataframe thead th {\n",
              "        text-align: right;\n",
              "    }\n",
              "</style>\n",
              "<table border=\"1\" class=\"dataframe\">\n",
              "  <thead>\n",
              "    <tr style=\"text-align: right;\">\n",
              "      <th></th>\n",
              "      <th>userId</th>\n",
              "      <th>movieId</th>\n",
              "      <th>rating</th>\n",
              "    </tr>\n",
              "  </thead>\n",
              "  <tbody>\n",
              "    <tr>\n",
              "      <th>0</th>\n",
              "      <td>172</td>\n",
              "      <td>296.0</td>\n",
              "      <td>3.0</td>\n",
              "    </tr>\n",
              "    <tr>\n",
              "      <th>1</th>\n",
              "      <td>172</td>\n",
              "      <td>380.0</td>\n",
              "      <td>3.0</td>\n",
              "    </tr>\n",
              "    <tr>\n",
              "      <th>2</th>\n",
              "      <td>172</td>\n",
              "      <td>150.0</td>\n",
              "      <td>3.0</td>\n",
              "    </tr>\n",
              "    <tr>\n",
              "      <th>3</th>\n",
              "      <td>172</td>\n",
              "      <td>592.0</td>\n",
              "      <td>3.0</td>\n",
              "    </tr>\n",
              "    <tr>\n",
              "      <th>4</th>\n",
              "      <td>172</td>\n",
              "      <td>590.0</td>\n",
              "      <td>4.0</td>\n",
              "    </tr>\n",
              "  </tbody>\n",
              "</table>\n",
              "</div>\n",
              "      <button class=\"colab-df-convert\" onclick=\"convertToInteractive('df-8fb85030-f07d-4699-9e0d-05d2ac3a8881')\"\n",
              "              title=\"Convert this dataframe to an interactive table.\"\n",
              "              style=\"display:none;\">\n",
              "        \n",
              "  <svg xmlns=\"http://www.w3.org/2000/svg\" height=\"24px\"viewBox=\"0 0 24 24\"\n",
              "       width=\"24px\">\n",
              "    <path d=\"M0 0h24v24H0V0z\" fill=\"none\"/>\n",
              "    <path d=\"M18.56 5.44l.94 2.06.94-2.06 2.06-.94-2.06-.94-.94-2.06-.94 2.06-2.06.94zm-11 1L8.5 8.5l.94-2.06 2.06-.94-2.06-.94L8.5 2.5l-.94 2.06-2.06.94zm10 10l.94 2.06.94-2.06 2.06-.94-2.06-.94-.94-2.06-.94 2.06-2.06.94z\"/><path d=\"M17.41 7.96l-1.37-1.37c-.4-.4-.92-.59-1.43-.59-.52 0-1.04.2-1.43.59L10.3 9.45l-7.72 7.72c-.78.78-.78 2.05 0 2.83L4 21.41c.39.39.9.59 1.41.59.51 0 1.02-.2 1.41-.59l7.78-7.78 2.81-2.81c.8-.78.8-2.07 0-2.86zM5.41 20L4 18.59l7.72-7.72 1.47 1.35L5.41 20z\"/>\n",
              "  </svg>\n",
              "      </button>\n",
              "      \n",
              "  <style>\n",
              "    .colab-df-container {\n",
              "      display:flex;\n",
              "      flex-wrap:wrap;\n",
              "      gap: 12px;\n",
              "    }\n",
              "\n",
              "    .colab-df-convert {\n",
              "      background-color: #E8F0FE;\n",
              "      border: none;\n",
              "      border-radius: 50%;\n",
              "      cursor: pointer;\n",
              "      display: none;\n",
              "      fill: #1967D2;\n",
              "      height: 32px;\n",
              "      padding: 0 0 0 0;\n",
              "      width: 32px;\n",
              "    }\n",
              "\n",
              "    .colab-df-convert:hover {\n",
              "      background-color: #E2EBFA;\n",
              "      box-shadow: 0px 1px 2px rgba(60, 64, 67, 0.3), 0px 1px 3px 1px rgba(60, 64, 67, 0.15);\n",
              "      fill: #174EA6;\n",
              "    }\n",
              "\n",
              "    [theme=dark] .colab-df-convert {\n",
              "      background-color: #3B4455;\n",
              "      fill: #D2E3FC;\n",
              "    }\n",
              "\n",
              "    [theme=dark] .colab-df-convert:hover {\n",
              "      background-color: #434B5C;\n",
              "      box-shadow: 0px 1px 3px 1px rgba(0, 0, 0, 0.15);\n",
              "      filter: drop-shadow(0px 1px 2px rgba(0, 0, 0, 0.3));\n",
              "      fill: #FFFFFF;\n",
              "    }\n",
              "  </style>\n",
              "\n",
              "      <script>\n",
              "        const buttonEl =\n",
              "          document.querySelector('#df-8fb85030-f07d-4699-9e0d-05d2ac3a8881 button.colab-df-convert');\n",
              "        buttonEl.style.display =\n",
              "          google.colab.kernel.accessAllowed ? 'block' : 'none';\n",
              "\n",
              "        async function convertToInteractive(key) {\n",
              "          const element = document.querySelector('#df-8fb85030-f07d-4699-9e0d-05d2ac3a8881');\n",
              "          const dataTable =\n",
              "            await google.colab.kernel.invokeFunction('convertToInteractive',\n",
              "                                                     [key], {});\n",
              "          if (!dataTable) return;\n",
              "\n",
              "          const docLinkHtml = 'Like what you see? Visit the ' +\n",
              "            '<a target=\"_blank\" href=https://colab.research.google.com/notebooks/data_table.ipynb>data table notebook</a>'\n",
              "            + ' to learn more about interactive tables.';\n",
              "          element.innerHTML = '';\n",
              "          dataTable['output_type'] = 'display_data';\n",
              "          await google.colab.output.renderOutput(dataTable, element);\n",
              "          const docLink = document.createElement('div');\n",
              "          docLink.innerHTML = docLinkHtml;\n",
              "          element.appendChild(docLink);\n",
              "        }\n",
              "      </script>\n",
              "    </div>\n",
              "  </div>\n",
              "  "
            ]
          },
          "metadata": {},
          "execution_count": 37
        }
      ]
    },
    {
      "cell_type": "code",
      "source": [
        "# delete new users fropm test to avoid cold start problem\n",
        "train_users = df_rating_train.userId.unique()\n",
        "df_rating_test['old_users'] = df_rating_test.userId.isin(train_users)\n",
        "df_rating_test.drop(df_rating_test[df_rating_test.old_users == False].index, inplace=True)\n",
        "df_rating_test.reset_index()\n",
        "df_rating_test.drop('old_users', axis=1, inplace=True)\n",
        "df_rating_test.head()"
      ],
      "metadata": {
        "execution": {
          "iopub.status.busy": "2022-04-04T15:59:37.113979Z",
          "iopub.execute_input": "2022-04-04T15:59:37.114186Z",
          "iopub.status.idle": "2022-04-04T15:59:37.136234Z",
          "shell.execute_reply.started": "2022-04-04T15:59:37.114160Z",
          "shell.execute_reply": "2022-04-04T15:59:37.135260Z"
        },
        "trusted": true,
        "colab": {
          "base_uri": "https://localhost:8080/",
          "height": 206
        },
        "id": "Bd8f9kY2Uo8E",
        "outputId": "b9455baa-e7cc-4d1b-95db-006856b7cf21"
      },
      "execution_count": 38,
      "outputs": [
        {
          "output_type": "execute_result",
          "data": {
            "text/plain": [
              "   index  userId  movieId  rating\n",
              "0  20000     124    784.0     3.0\n",
              "1  20001     124   2324.0     4.0\n",
              "2  20002     124   5445.0     4.5\n",
              "3  20003     124   2268.0     4.5\n",
              "4  20004     124     58.0     1.0"
            ],
            "text/html": [
              "\n",
              "  <div id=\"df-6b9380dd-6c41-44b1-9f5e-734537936bca\">\n",
              "    <div class=\"colab-df-container\">\n",
              "      <div>\n",
              "<style scoped>\n",
              "    .dataframe tbody tr th:only-of-type {\n",
              "        vertical-align: middle;\n",
              "    }\n",
              "\n",
              "    .dataframe tbody tr th {\n",
              "        vertical-align: top;\n",
              "    }\n",
              "\n",
              "    .dataframe thead th {\n",
              "        text-align: right;\n",
              "    }\n",
              "</style>\n",
              "<table border=\"1\" class=\"dataframe\">\n",
              "  <thead>\n",
              "    <tr style=\"text-align: right;\">\n",
              "      <th></th>\n",
              "      <th>index</th>\n",
              "      <th>userId</th>\n",
              "      <th>movieId</th>\n",
              "      <th>rating</th>\n",
              "    </tr>\n",
              "  </thead>\n",
              "  <tbody>\n",
              "    <tr>\n",
              "      <th>0</th>\n",
              "      <td>20000</td>\n",
              "      <td>124</td>\n",
              "      <td>784.0</td>\n",
              "      <td>3.0</td>\n",
              "    </tr>\n",
              "    <tr>\n",
              "      <th>1</th>\n",
              "      <td>20001</td>\n",
              "      <td>124</td>\n",
              "      <td>2324.0</td>\n",
              "      <td>4.0</td>\n",
              "    </tr>\n",
              "    <tr>\n",
              "      <th>2</th>\n",
              "      <td>20002</td>\n",
              "      <td>124</td>\n",
              "      <td>5445.0</td>\n",
              "      <td>4.5</td>\n",
              "    </tr>\n",
              "    <tr>\n",
              "      <th>3</th>\n",
              "      <td>20003</td>\n",
              "      <td>124</td>\n",
              "      <td>2268.0</td>\n",
              "      <td>4.5</td>\n",
              "    </tr>\n",
              "    <tr>\n",
              "      <th>4</th>\n",
              "      <td>20004</td>\n",
              "      <td>124</td>\n",
              "      <td>58.0</td>\n",
              "      <td>1.0</td>\n",
              "    </tr>\n",
              "  </tbody>\n",
              "</table>\n",
              "</div>\n",
              "      <button class=\"colab-df-convert\" onclick=\"convertToInteractive('df-6b9380dd-6c41-44b1-9f5e-734537936bca')\"\n",
              "              title=\"Convert this dataframe to an interactive table.\"\n",
              "              style=\"display:none;\">\n",
              "        \n",
              "  <svg xmlns=\"http://www.w3.org/2000/svg\" height=\"24px\"viewBox=\"0 0 24 24\"\n",
              "       width=\"24px\">\n",
              "    <path d=\"M0 0h24v24H0V0z\" fill=\"none\"/>\n",
              "    <path d=\"M18.56 5.44l.94 2.06.94-2.06 2.06-.94-2.06-.94-.94-2.06-.94 2.06-2.06.94zm-11 1L8.5 8.5l.94-2.06 2.06-.94-2.06-.94L8.5 2.5l-.94 2.06-2.06.94zm10 10l.94 2.06.94-2.06 2.06-.94-2.06-.94-.94-2.06-.94 2.06-2.06.94z\"/><path d=\"M17.41 7.96l-1.37-1.37c-.4-.4-.92-.59-1.43-.59-.52 0-1.04.2-1.43.59L10.3 9.45l-7.72 7.72c-.78.78-.78 2.05 0 2.83L4 21.41c.39.39.9.59 1.41.59.51 0 1.02-.2 1.41-.59l7.78-7.78 2.81-2.81c.8-.78.8-2.07 0-2.86zM5.41 20L4 18.59l7.72-7.72 1.47 1.35L5.41 20z\"/>\n",
              "  </svg>\n",
              "      </button>\n",
              "      \n",
              "  <style>\n",
              "    .colab-df-container {\n",
              "      display:flex;\n",
              "      flex-wrap:wrap;\n",
              "      gap: 12px;\n",
              "    }\n",
              "\n",
              "    .colab-df-convert {\n",
              "      background-color: #E8F0FE;\n",
              "      border: none;\n",
              "      border-radius: 50%;\n",
              "      cursor: pointer;\n",
              "      display: none;\n",
              "      fill: #1967D2;\n",
              "      height: 32px;\n",
              "      padding: 0 0 0 0;\n",
              "      width: 32px;\n",
              "    }\n",
              "\n",
              "    .colab-df-convert:hover {\n",
              "      background-color: #E2EBFA;\n",
              "      box-shadow: 0px 1px 2px rgba(60, 64, 67, 0.3), 0px 1px 3px 1px rgba(60, 64, 67, 0.15);\n",
              "      fill: #174EA6;\n",
              "    }\n",
              "\n",
              "    [theme=dark] .colab-df-convert {\n",
              "      background-color: #3B4455;\n",
              "      fill: #D2E3FC;\n",
              "    }\n",
              "\n",
              "    [theme=dark] .colab-df-convert:hover {\n",
              "      background-color: #434B5C;\n",
              "      box-shadow: 0px 1px 3px 1px rgba(0, 0, 0, 0.15);\n",
              "      filter: drop-shadow(0px 1px 2px rgba(0, 0, 0, 0.3));\n",
              "      fill: #FFFFFF;\n",
              "    }\n",
              "  </style>\n",
              "\n",
              "      <script>\n",
              "        const buttonEl =\n",
              "          document.querySelector('#df-6b9380dd-6c41-44b1-9f5e-734537936bca button.colab-df-convert');\n",
              "        buttonEl.style.display =\n",
              "          google.colab.kernel.accessAllowed ? 'block' : 'none';\n",
              "\n",
              "        async function convertToInteractive(key) {\n",
              "          const element = document.querySelector('#df-6b9380dd-6c41-44b1-9f5e-734537936bca');\n",
              "          const dataTable =\n",
              "            await google.colab.kernel.invokeFunction('convertToInteractive',\n",
              "                                                     [key], {});\n",
              "          if (!dataTable) return;\n",
              "\n",
              "          const docLinkHtml = 'Like what you see? Visit the ' +\n",
              "            '<a target=\"_blank\" href=https://colab.research.google.com/notebooks/data_table.ipynb>data table notebook</a>'\n",
              "            + ' to learn more about interactive tables.';\n",
              "          element.innerHTML = '';\n",
              "          dataTable['output_type'] = 'display_data';\n",
              "          await google.colab.output.renderOutput(dataTable, element);\n",
              "          const docLink = document.createElement('div');\n",
              "          docLink.innerHTML = docLinkHtml;\n",
              "          element.appendChild(docLink);\n",
              "        }\n",
              "      </script>\n",
              "    </div>\n",
              "  </div>\n",
              "  "
            ]
          },
          "metadata": {},
          "execution_count": 38
        }
      ]
    },
    {
      "cell_type": "code",
      "source": [
        "df_movies = pd.read_csv('movie.csv')\n",
        "df_movies.head()"
      ],
      "metadata": {
        "execution": {
          "iopub.status.busy": "2022-04-04T15:59:37.137625Z",
          "iopub.execute_input": "2022-04-04T15:59:37.137846Z",
          "iopub.status.idle": "2022-04-04T15:59:37.185410Z",
          "shell.execute_reply.started": "2022-04-04T15:59:37.137819Z",
          "shell.execute_reply": "2022-04-04T15:59:37.184536Z"
        },
        "trusted": true,
        "colab": {
          "base_uri": "https://localhost:8080/",
          "height": 206
        },
        "id": "LcYiZn-nUo8E",
        "outputId": "09c1cb50-2c69-4dec-8a64-c6b02f6b366a"
      },
      "execution_count": 39,
      "outputs": [
        {
          "output_type": "execute_result",
          "data": {
            "text/plain": [
              "   movieId                               title  \\\n",
              "0        1                    Toy Story (1995)   \n",
              "1        2                      Jumanji (1995)   \n",
              "2        3             Grumpier Old Men (1995)   \n",
              "3        4            Waiting to Exhale (1995)   \n",
              "4        5  Father of the Bride Part II (1995)   \n",
              "\n",
              "                                        genres  \n",
              "0  Adventure|Animation|Children|Comedy|Fantasy  \n",
              "1                   Adventure|Children|Fantasy  \n",
              "2                               Comedy|Romance  \n",
              "3                         Comedy|Drama|Romance  \n",
              "4                                       Comedy  "
            ],
            "text/html": [
              "\n",
              "  <div id=\"df-a7f0eae8-3b18-4a1a-9e07-93f6e50e0562\">\n",
              "    <div class=\"colab-df-container\">\n",
              "      <div>\n",
              "<style scoped>\n",
              "    .dataframe tbody tr th:only-of-type {\n",
              "        vertical-align: middle;\n",
              "    }\n",
              "\n",
              "    .dataframe tbody tr th {\n",
              "        vertical-align: top;\n",
              "    }\n",
              "\n",
              "    .dataframe thead th {\n",
              "        text-align: right;\n",
              "    }\n",
              "</style>\n",
              "<table border=\"1\" class=\"dataframe\">\n",
              "  <thead>\n",
              "    <tr style=\"text-align: right;\">\n",
              "      <th></th>\n",
              "      <th>movieId</th>\n",
              "      <th>title</th>\n",
              "      <th>genres</th>\n",
              "    </tr>\n",
              "  </thead>\n",
              "  <tbody>\n",
              "    <tr>\n",
              "      <th>0</th>\n",
              "      <td>1</td>\n",
              "      <td>Toy Story (1995)</td>\n",
              "      <td>Adventure|Animation|Children|Comedy|Fantasy</td>\n",
              "    </tr>\n",
              "    <tr>\n",
              "      <th>1</th>\n",
              "      <td>2</td>\n",
              "      <td>Jumanji (1995)</td>\n",
              "      <td>Adventure|Children|Fantasy</td>\n",
              "    </tr>\n",
              "    <tr>\n",
              "      <th>2</th>\n",
              "      <td>3</td>\n",
              "      <td>Grumpier Old Men (1995)</td>\n",
              "      <td>Comedy|Romance</td>\n",
              "    </tr>\n",
              "    <tr>\n",
              "      <th>3</th>\n",
              "      <td>4</td>\n",
              "      <td>Waiting to Exhale (1995)</td>\n",
              "      <td>Comedy|Drama|Romance</td>\n",
              "    </tr>\n",
              "    <tr>\n",
              "      <th>4</th>\n",
              "      <td>5</td>\n",
              "      <td>Father of the Bride Part II (1995)</td>\n",
              "      <td>Comedy</td>\n",
              "    </tr>\n",
              "  </tbody>\n",
              "</table>\n",
              "</div>\n",
              "      <button class=\"colab-df-convert\" onclick=\"convertToInteractive('df-a7f0eae8-3b18-4a1a-9e07-93f6e50e0562')\"\n",
              "              title=\"Convert this dataframe to an interactive table.\"\n",
              "              style=\"display:none;\">\n",
              "        \n",
              "  <svg xmlns=\"http://www.w3.org/2000/svg\" height=\"24px\"viewBox=\"0 0 24 24\"\n",
              "       width=\"24px\">\n",
              "    <path d=\"M0 0h24v24H0V0z\" fill=\"none\"/>\n",
              "    <path d=\"M18.56 5.44l.94 2.06.94-2.06 2.06-.94-2.06-.94-.94-2.06-.94 2.06-2.06.94zm-11 1L8.5 8.5l.94-2.06 2.06-.94-2.06-.94L8.5 2.5l-.94 2.06-2.06.94zm10 10l.94 2.06.94-2.06 2.06-.94-2.06-.94-.94-2.06-.94 2.06-2.06.94z\"/><path d=\"M17.41 7.96l-1.37-1.37c-.4-.4-.92-.59-1.43-.59-.52 0-1.04.2-1.43.59L10.3 9.45l-7.72 7.72c-.78.78-.78 2.05 0 2.83L4 21.41c.39.39.9.59 1.41.59.51 0 1.02-.2 1.41-.59l7.78-7.78 2.81-2.81c.8-.78.8-2.07 0-2.86zM5.41 20L4 18.59l7.72-7.72 1.47 1.35L5.41 20z\"/>\n",
              "  </svg>\n",
              "      </button>\n",
              "      \n",
              "  <style>\n",
              "    .colab-df-container {\n",
              "      display:flex;\n",
              "      flex-wrap:wrap;\n",
              "      gap: 12px;\n",
              "    }\n",
              "\n",
              "    .colab-df-convert {\n",
              "      background-color: #E8F0FE;\n",
              "      border: none;\n",
              "      border-radius: 50%;\n",
              "      cursor: pointer;\n",
              "      display: none;\n",
              "      fill: #1967D2;\n",
              "      height: 32px;\n",
              "      padding: 0 0 0 0;\n",
              "      width: 32px;\n",
              "    }\n",
              "\n",
              "    .colab-df-convert:hover {\n",
              "      background-color: #E2EBFA;\n",
              "      box-shadow: 0px 1px 2px rgba(60, 64, 67, 0.3), 0px 1px 3px 1px rgba(60, 64, 67, 0.15);\n",
              "      fill: #174EA6;\n",
              "    }\n",
              "\n",
              "    [theme=dark] .colab-df-convert {\n",
              "      background-color: #3B4455;\n",
              "      fill: #D2E3FC;\n",
              "    }\n",
              "\n",
              "    [theme=dark] .colab-df-convert:hover {\n",
              "      background-color: #434B5C;\n",
              "      box-shadow: 0px 1px 3px 1px rgba(0, 0, 0, 0.15);\n",
              "      filter: drop-shadow(0px 1px 2px rgba(0, 0, 0, 0.3));\n",
              "      fill: #FFFFFF;\n",
              "    }\n",
              "  </style>\n",
              "\n",
              "      <script>\n",
              "        const buttonEl =\n",
              "          document.querySelector('#df-a7f0eae8-3b18-4a1a-9e07-93f6e50e0562 button.colab-df-convert');\n",
              "        buttonEl.style.display =\n",
              "          google.colab.kernel.accessAllowed ? 'block' : 'none';\n",
              "\n",
              "        async function convertToInteractive(key) {\n",
              "          const element = document.querySelector('#df-a7f0eae8-3b18-4a1a-9e07-93f6e50e0562');\n",
              "          const dataTable =\n",
              "            await google.colab.kernel.invokeFunction('convertToInteractive',\n",
              "                                                     [key], {});\n",
              "          if (!dataTable) return;\n",
              "\n",
              "          const docLinkHtml = 'Like what you see? Visit the ' +\n",
              "            '<a target=\"_blank\" href=https://colab.research.google.com/notebooks/data_table.ipynb>data table notebook</a>'\n",
              "            + ' to learn more about interactive tables.';\n",
              "          element.innerHTML = '';\n",
              "          dataTable['output_type'] = 'display_data';\n",
              "          await google.colab.output.renderOutput(dataTable, element);\n",
              "          const docLink = document.createElement('div');\n",
              "          docLink.innerHTML = docLinkHtml;\n",
              "          element.appendChild(docLink);\n",
              "        }\n",
              "      </script>\n",
              "    </div>\n",
              "  </div>\n",
              "  "
            ]
          },
          "metadata": {},
          "execution_count": 39
        }
      ]
    },
    {
      "cell_type": "markdown",
      "source": [
        "# ALS"
      ],
      "metadata": {
        "id": "X-1K4kVFUo8F"
      }
    },
    {
      "cell_type": "code",
      "source": [
        "spark = SparkSession.builder.getOrCreate()"
      ],
      "metadata": {
        "execution": {
          "iopub.status.busy": "2022-04-04T16:00:22.802052Z",
          "iopub.execute_input": "2022-04-04T16:00:22.804282Z",
          "iopub.status.idle": "2022-04-04T16:00:22.814433Z",
          "shell.execute_reply.started": "2022-04-04T16:00:22.804180Z",
          "shell.execute_reply": "2022-04-04T16:00:22.813520Z"
        },
        "trusted": true,
        "id": "Cio-tLTjUo8G"
      },
      "execution_count": 40,
      "outputs": []
    },
    {
      "cell_type": "code",
      "source": [
        "#create and define ALS best model using rmse evaluator and ParamGridBuilder\n",
        "\n",
        "train = spark.createDataFrame(df_rating_train)\n",
        "test = spark.createDataFrame(df_rating_test)\n",
        "\n",
        "als = ALS(userCol='userId', itemCol='movieId', ratingCol='rating')\n",
        "param_grid = ParamGridBuilder()\\\n",
        "            .addGrid(als.rank, [12, 13, 14])\\\n",
        "            .addGrid(als.maxIter, [10, 15, 20])\\\n",
        "            .addGrid(als.regParam, [0.1, 0.15, 0.2])\\\n",
        "            .build()\n",
        "evaluator = RegressionEvaluator(metricName='rmse', labelCol='rating', predictionCol='prediction')\n",
        "cv = CrossValidator(estimator=als, \n",
        "                    estimatorParamMaps=param_grid,\n",
        "                    evaluator=evaluator,\n",
        "                    numFolds=3) \n",
        "model = cv.fit(train)\n",
        "best_model = model.bestModel"
      ],
      "metadata": {
        "execution": {
          "iopub.status.busy": "2022-04-04T16:00:24.409338Z",
          "iopub.execute_input": "2022-04-04T16:00:24.409644Z",
          "iopub.status.idle": "2022-04-04T16:00:24.496852Z",
          "shell.execute_reply.started": "2022-04-04T16:00:24.409610Z",
          "shell.execute_reply": "2022-04-04T16:00:24.494778Z"
        },
        "trusted": true,
        "id": "3gpacHfaUo8G"
      },
      "execution_count": 41,
      "outputs": []
    },
    {
      "cell_type": "code",
      "source": [
        "def compute_metrics(df_true, df_pred, top_N):\n",
        "    \"\"\"\n",
        "    returns calculated metrics to evaluate predictions\n",
        "    \"\"\"\n",
        "    result = {}\n",
        "    test_recs = df_true.set_index(['userId', 'movieId']).join(df_pred.set_index(['userId', 'movieId']))\n",
        "    test_recs = test_recs.sort_values(by=['userId', 'rank'])\n",
        "\n",
        "    test_recs['users_item_count'] = test_recs.groupby(level='userId')['rank'].transform(np.size)\n",
        "    test_recs['reciprocal_rank'] = (1 / test_recs['rank']).fillna(0)\n",
        "    test_recs['cumulative_rank'] = test_recs.groupby(level='userId').cumcount() + 1\n",
        "    test_recs['cumulative_rank'] = test_recs['cumulative_rank'] / test_recs['rank']\n",
        "    \n",
        "    users_count = test_recs.index.get_level_values('userId').nunique()\n",
        "    for k in range(1, top_N + 1):\n",
        "        hit_k = f'hit@{k}'\n",
        "        test_recs[hit_k] = test_recs['rank'] <= k\n",
        "        result[f'Precision@{k}'] = (test_recs[hit_k] / k).sum() / users_count\n",
        "        result[f'Recall@{k}'] = (test_recs[hit_k] / test_recs['users_item_count']).sum() / users_count\n",
        "\n",
        "    result[f'MAP@{top_N}'] = (test_recs[\"cumulative_rank\"] / test_recs[\"users_item_count\"]).sum() / users_count\n",
        "    result[f'MRR'] = test_recs.groupby(level='userId')['reciprocal_rank'].max().mean()\n",
        "    return pd.Series(result)"
      ],
      "metadata": {
        "execution": {
          "iopub.status.busy": "2022-04-04T15:59:37.236764Z",
          "iopub.status.idle": "2022-04-04T15:59:37.237202Z",
          "shell.execute_reply.started": "2022-04-04T15:59:37.237030Z",
          "shell.execute_reply": "2022-04-04T15:59:37.237048Z"
        },
        "trusted": true,
        "id": "do8XH7gqUo8H"
      },
      "execution_count": 42,
      "outputs": []
    },
    {
      "cell_type": "code",
      "source": [
        "# predict recommendations \n",
        "users = test.select(als.getUserCol()).distinct()\n",
        "recs = best_model.recommendForUserSubset(users, TOP_N)\n",
        "\n",
        "# prepare to calculating metrics\n",
        "recs = recs.toPandas()\n",
        "recs['movieId'] = [list(map(lambda x: x[0], string)) for _, string in enumerate(recs.recommendations)]\n",
        "recs = recs.explode('movieId')\n",
        "recs['rank'] = recs.groupby('userId').cumcount() + 1\n",
        "recs.drop('recommendations', inplace=True, axis=1)\n",
        "\n",
        "# compute metrics\n",
        "compute_metrics(df_rating_test, recs, TOP_N)"
      ],
      "metadata": {
        "execution": {
          "iopub.status.busy": "2022-04-04T15:59:37.238482Z",
          "iopub.status.idle": "2022-04-04T15:59:37.238801Z",
          "shell.execute_reply.started": "2022-04-04T15:59:37.238637Z",
          "shell.execute_reply": "2022-04-04T15:59:37.238654Z"
        },
        "trusted": true,
        "colab": {
          "base_uri": "https://localhost:8080/"
        },
        "id": "p7feDM6SUo8H",
        "outputId": "bed49111-7930-4421-adb0-c12c1c0728f4"
      },
      "execution_count": 43,
      "outputs": [
        {
          "output_type": "stream",
          "name": "stderr",
          "text": [
            "/usr/local/lib/python3.7/dist-packages/pyspark/sql/context.py:127: FutureWarning: Deprecated in 3.0.0. Use SparkSession.builder.getOrCreate() instead.\n",
            "  FutureWarning\n"
          ]
        },
        {
          "output_type": "execute_result",
          "data": {
            "text/plain": [
              "Precision@1     0.000000\n",
              "Recall@1        0.000000\n",
              "Precision@2     0.000000\n",
              "Recall@2        0.000000\n",
              "Precision@3     0.000000\n",
              "Recall@3        0.000000\n",
              "Precision@4     0.035714\n",
              "Recall@4        0.000389\n",
              "Precision@5     0.028571\n",
              "Recall@5        0.000389\n",
              "Precision@6     0.047619\n",
              "Recall@6        0.002110\n",
              "Precision@7     0.061224\n",
              "Recall@7        0.003832\n",
              "Precision@8     0.089286\n",
              "Recall@8        0.006048\n",
              "Precision@9     0.079365\n",
              "Recall@9        0.006048\n",
              "Precision@10    0.071429\n",
              "Recall@10       0.006048\n",
              "MAP@10          0.001153\n",
              "MRR             0.095238\n",
              "dtype: float64"
            ]
          },
          "metadata": {},
          "execution_count": 43
        }
      ]
    },
    {
      "cell_type": "markdown",
      "source": [
        "# LightFM"
      ],
      "metadata": {
        "id": "jdnH514JUo8I"
      }
    },
    {
      "cell_type": "markdown",
      "source": [
        "### prepare film dataset"
      ],
      "metadata": {
        "id": "SL6KUHShUo8I"
      }
    },
    {
      "cell_type": "code",
      "source": [
        "# detecting genres \n",
        "genres = set()\n",
        "genres_data = df_movies.genres.unique()\n",
        "for film_genres in genres_data:\n",
        "    curr_genres = film_genres.split('|')\n",
        "    genres.update(curr_genres)\n",
        "\n",
        "# using dummy-encoding for genres and adding a 'year' column \n",
        "df_movies[list(genres)] = np.zeros((len(df_movies), len(genres)), dtype=bool)\n",
        "df_movies['year'] = np.zeros(len(df_movies), dtype=str)\n",
        "\n",
        "pattern = r'\\d{4}'\n",
        "for i in list(df_movies.index):\n",
        "    curr_genres = df_movies.genres.iloc[i].split('|')\n",
        "    for g in curr_genres:\n",
        "        df_movies.loc[i,g] = True\n",
        "    \n",
        "    title = df_movies.loc[i, 'title']\n",
        "    year = re.findall(pattern, title)\n",
        "    try:\n",
        "        df_movies.loc[i, 'year'] = year[-1] \n",
        "    except:\n",
        "        df_movies.loc[i, 'year'] = '2000' # in case there is not any information about year"
      ],
      "metadata": {
        "execution": {
          "iopub.status.busy": "2022-04-04T15:59:37.240086Z",
          "iopub.status.idle": "2022-04-04T15:59:37.240434Z",
          "shell.execute_reply.started": "2022-04-04T15:59:37.240229Z",
          "shell.execute_reply": "2022-04-04T15:59:37.240245Z"
        },
        "trusted": true,
        "id": "c749XSZbUo8I"
      },
      "execution_count": 44,
      "outputs": []
    },
    {
      "cell_type": "code",
      "source": [
        "df_movies.head()"
      ],
      "metadata": {
        "execution": {
          "iopub.status.busy": "2022-04-04T15:59:37.241371Z",
          "iopub.status.idle": "2022-04-04T15:59:37.242003Z",
          "shell.execute_reply.started": "2022-04-04T15:59:37.241804Z",
          "shell.execute_reply": "2022-04-04T15:59:37.241826Z"
        },
        "trusted": true,
        "colab": {
          "base_uri": "https://localhost:8080/",
          "height": 508
        },
        "id": "sRRUL-dSUo8J",
        "outputId": "b3f996b7-5ff8-4076-8e09-11a7ecb44d2e"
      },
      "execution_count": 45,
      "outputs": [
        {
          "output_type": "execute_result",
          "data": {
            "text/plain": [
              "   movieId                               title  \\\n",
              "0        1                    Toy Story (1995)   \n",
              "1        2                      Jumanji (1995)   \n",
              "2        3             Grumpier Old Men (1995)   \n",
              "3        4            Waiting to Exhale (1995)   \n",
              "4        5  Father of the Bride Part II (1995)   \n",
              "\n",
              "                                        genres  Romance  Action  Sci-Fi  \\\n",
              "0  Adventure|Animation|Children|Comedy|Fantasy    False   False   False   \n",
              "1                   Adventure|Children|Fantasy    False   False   False   \n",
              "2                               Comedy|Romance     True   False   False   \n",
              "3                         Comedy|Drama|Romance     True   False   False   \n",
              "4                                       Comedy    False   False   False   \n",
              "\n",
              "   Mystery  Horror  Musical  Crime  ...  Children  Fantasy  Animation  \\\n",
              "0    False   False    False  False  ...      True     True       True   \n",
              "1    False   False    False  False  ...      True     True      False   \n",
              "2    False   False    False  False  ...     False    False      False   \n",
              "3    False   False    False  False  ...     False    False      False   \n",
              "4    False   False    False  False  ...     False    False      False   \n",
              "\n",
              "   (no genres listed)  Comedy  Thriller  Documentary  Adventure  Western  year  \n",
              "0               False    True     False        False       True    False  1995  \n",
              "1               False   False     False        False       True    False  1995  \n",
              "2               False    True     False        False      False    False  1995  \n",
              "3               False    True     False        False      False    False  1995  \n",
              "4               False    True     False        False      False    False  1995  \n",
              "\n",
              "[5 rows x 24 columns]"
            ],
            "text/html": [
              "\n",
              "  <div id=\"df-fd80d850-d000-4e5b-8ebd-bea66a38d812\">\n",
              "    <div class=\"colab-df-container\">\n",
              "      <div>\n",
              "<style scoped>\n",
              "    .dataframe tbody tr th:only-of-type {\n",
              "        vertical-align: middle;\n",
              "    }\n",
              "\n",
              "    .dataframe tbody tr th {\n",
              "        vertical-align: top;\n",
              "    }\n",
              "\n",
              "    .dataframe thead th {\n",
              "        text-align: right;\n",
              "    }\n",
              "</style>\n",
              "<table border=\"1\" class=\"dataframe\">\n",
              "  <thead>\n",
              "    <tr style=\"text-align: right;\">\n",
              "      <th></th>\n",
              "      <th>movieId</th>\n",
              "      <th>title</th>\n",
              "      <th>genres</th>\n",
              "      <th>Romance</th>\n",
              "      <th>Action</th>\n",
              "      <th>Sci-Fi</th>\n",
              "      <th>Mystery</th>\n",
              "      <th>Horror</th>\n",
              "      <th>Musical</th>\n",
              "      <th>Crime</th>\n",
              "      <th>...</th>\n",
              "      <th>Children</th>\n",
              "      <th>Fantasy</th>\n",
              "      <th>Animation</th>\n",
              "      <th>(no genres listed)</th>\n",
              "      <th>Comedy</th>\n",
              "      <th>Thriller</th>\n",
              "      <th>Documentary</th>\n",
              "      <th>Adventure</th>\n",
              "      <th>Western</th>\n",
              "      <th>year</th>\n",
              "    </tr>\n",
              "  </thead>\n",
              "  <tbody>\n",
              "    <tr>\n",
              "      <th>0</th>\n",
              "      <td>1</td>\n",
              "      <td>Toy Story (1995)</td>\n",
              "      <td>Adventure|Animation|Children|Comedy|Fantasy</td>\n",
              "      <td>False</td>\n",
              "      <td>False</td>\n",
              "      <td>False</td>\n",
              "      <td>False</td>\n",
              "      <td>False</td>\n",
              "      <td>False</td>\n",
              "      <td>False</td>\n",
              "      <td>...</td>\n",
              "      <td>True</td>\n",
              "      <td>True</td>\n",
              "      <td>True</td>\n",
              "      <td>False</td>\n",
              "      <td>True</td>\n",
              "      <td>False</td>\n",
              "      <td>False</td>\n",
              "      <td>True</td>\n",
              "      <td>False</td>\n",
              "      <td>1995</td>\n",
              "    </tr>\n",
              "    <tr>\n",
              "      <th>1</th>\n",
              "      <td>2</td>\n",
              "      <td>Jumanji (1995)</td>\n",
              "      <td>Adventure|Children|Fantasy</td>\n",
              "      <td>False</td>\n",
              "      <td>False</td>\n",
              "      <td>False</td>\n",
              "      <td>False</td>\n",
              "      <td>False</td>\n",
              "      <td>False</td>\n",
              "      <td>False</td>\n",
              "      <td>...</td>\n",
              "      <td>True</td>\n",
              "      <td>True</td>\n",
              "      <td>False</td>\n",
              "      <td>False</td>\n",
              "      <td>False</td>\n",
              "      <td>False</td>\n",
              "      <td>False</td>\n",
              "      <td>True</td>\n",
              "      <td>False</td>\n",
              "      <td>1995</td>\n",
              "    </tr>\n",
              "    <tr>\n",
              "      <th>2</th>\n",
              "      <td>3</td>\n",
              "      <td>Grumpier Old Men (1995)</td>\n",
              "      <td>Comedy|Romance</td>\n",
              "      <td>True</td>\n",
              "      <td>False</td>\n",
              "      <td>False</td>\n",
              "      <td>False</td>\n",
              "      <td>False</td>\n",
              "      <td>False</td>\n",
              "      <td>False</td>\n",
              "      <td>...</td>\n",
              "      <td>False</td>\n",
              "      <td>False</td>\n",
              "      <td>False</td>\n",
              "      <td>False</td>\n",
              "      <td>True</td>\n",
              "      <td>False</td>\n",
              "      <td>False</td>\n",
              "      <td>False</td>\n",
              "      <td>False</td>\n",
              "      <td>1995</td>\n",
              "    </tr>\n",
              "    <tr>\n",
              "      <th>3</th>\n",
              "      <td>4</td>\n",
              "      <td>Waiting to Exhale (1995)</td>\n",
              "      <td>Comedy|Drama|Romance</td>\n",
              "      <td>True</td>\n",
              "      <td>False</td>\n",
              "      <td>False</td>\n",
              "      <td>False</td>\n",
              "      <td>False</td>\n",
              "      <td>False</td>\n",
              "      <td>False</td>\n",
              "      <td>...</td>\n",
              "      <td>False</td>\n",
              "      <td>False</td>\n",
              "      <td>False</td>\n",
              "      <td>False</td>\n",
              "      <td>True</td>\n",
              "      <td>False</td>\n",
              "      <td>False</td>\n",
              "      <td>False</td>\n",
              "      <td>False</td>\n",
              "      <td>1995</td>\n",
              "    </tr>\n",
              "    <tr>\n",
              "      <th>4</th>\n",
              "      <td>5</td>\n",
              "      <td>Father of the Bride Part II (1995)</td>\n",
              "      <td>Comedy</td>\n",
              "      <td>False</td>\n",
              "      <td>False</td>\n",
              "      <td>False</td>\n",
              "      <td>False</td>\n",
              "      <td>False</td>\n",
              "      <td>False</td>\n",
              "      <td>False</td>\n",
              "      <td>...</td>\n",
              "      <td>False</td>\n",
              "      <td>False</td>\n",
              "      <td>False</td>\n",
              "      <td>False</td>\n",
              "      <td>True</td>\n",
              "      <td>False</td>\n",
              "      <td>False</td>\n",
              "      <td>False</td>\n",
              "      <td>False</td>\n",
              "      <td>1995</td>\n",
              "    </tr>\n",
              "  </tbody>\n",
              "</table>\n",
              "<p>5 rows × 24 columns</p>\n",
              "</div>\n",
              "      <button class=\"colab-df-convert\" onclick=\"convertToInteractive('df-fd80d850-d000-4e5b-8ebd-bea66a38d812')\"\n",
              "              title=\"Convert this dataframe to an interactive table.\"\n",
              "              style=\"display:none;\">\n",
              "        \n",
              "  <svg xmlns=\"http://www.w3.org/2000/svg\" height=\"24px\"viewBox=\"0 0 24 24\"\n",
              "       width=\"24px\">\n",
              "    <path d=\"M0 0h24v24H0V0z\" fill=\"none\"/>\n",
              "    <path d=\"M18.56 5.44l.94 2.06.94-2.06 2.06-.94-2.06-.94-.94-2.06-.94 2.06-2.06.94zm-11 1L8.5 8.5l.94-2.06 2.06-.94-2.06-.94L8.5 2.5l-.94 2.06-2.06.94zm10 10l.94 2.06.94-2.06 2.06-.94-2.06-.94-.94-2.06-.94 2.06-2.06.94z\"/><path d=\"M17.41 7.96l-1.37-1.37c-.4-.4-.92-.59-1.43-.59-.52 0-1.04.2-1.43.59L10.3 9.45l-7.72 7.72c-.78.78-.78 2.05 0 2.83L4 21.41c.39.39.9.59 1.41.59.51 0 1.02-.2 1.41-.59l7.78-7.78 2.81-2.81c.8-.78.8-2.07 0-2.86zM5.41 20L4 18.59l7.72-7.72 1.47 1.35L5.41 20z\"/>\n",
              "  </svg>\n",
              "      </button>\n",
              "      \n",
              "  <style>\n",
              "    .colab-df-container {\n",
              "      display:flex;\n",
              "      flex-wrap:wrap;\n",
              "      gap: 12px;\n",
              "    }\n",
              "\n",
              "    .colab-df-convert {\n",
              "      background-color: #E8F0FE;\n",
              "      border: none;\n",
              "      border-radius: 50%;\n",
              "      cursor: pointer;\n",
              "      display: none;\n",
              "      fill: #1967D2;\n",
              "      height: 32px;\n",
              "      padding: 0 0 0 0;\n",
              "      width: 32px;\n",
              "    }\n",
              "\n",
              "    .colab-df-convert:hover {\n",
              "      background-color: #E2EBFA;\n",
              "      box-shadow: 0px 1px 2px rgba(60, 64, 67, 0.3), 0px 1px 3px 1px rgba(60, 64, 67, 0.15);\n",
              "      fill: #174EA6;\n",
              "    }\n",
              "\n",
              "    [theme=dark] .colab-df-convert {\n",
              "      background-color: #3B4455;\n",
              "      fill: #D2E3FC;\n",
              "    }\n",
              "\n",
              "    [theme=dark] .colab-df-convert:hover {\n",
              "      background-color: #434B5C;\n",
              "      box-shadow: 0px 1px 3px 1px rgba(0, 0, 0, 0.15);\n",
              "      filter: drop-shadow(0px 1px 2px rgba(0, 0, 0, 0.3));\n",
              "      fill: #FFFFFF;\n",
              "    }\n",
              "  </style>\n",
              "\n",
              "      <script>\n",
              "        const buttonEl =\n",
              "          document.querySelector('#df-fd80d850-d000-4e5b-8ebd-bea66a38d812 button.colab-df-convert');\n",
              "        buttonEl.style.display =\n",
              "          google.colab.kernel.accessAllowed ? 'block' : 'none';\n",
              "\n",
              "        async function convertToInteractive(key) {\n",
              "          const element = document.querySelector('#df-fd80d850-d000-4e5b-8ebd-bea66a38d812');\n",
              "          const dataTable =\n",
              "            await google.colab.kernel.invokeFunction('convertToInteractive',\n",
              "                                                     [key], {});\n",
              "          if (!dataTable) return;\n",
              "\n",
              "          const docLinkHtml = 'Like what you see? Visit the ' +\n",
              "            '<a target=\"_blank\" href=https://colab.research.google.com/notebooks/data_table.ipynb>data table notebook</a>'\n",
              "            + ' to learn more about interactive tables.';\n",
              "          element.innerHTML = '';\n",
              "          dataTable['output_type'] = 'display_data';\n",
              "          await google.colab.output.renderOutput(dataTable, element);\n",
              "          const docLink = document.createElement('div');\n",
              "          docLink.innerHTML = docLinkHtml;\n",
              "          element.appendChild(docLink);\n",
              "        }\n",
              "      </script>\n",
              "    </div>\n",
              "  </div>\n",
              "  "
            ]
          },
          "metadata": {},
          "execution_count": 45
        }
      ]
    },
    {
      "cell_type": "markdown",
      "source": [
        "### prepare data for using lightFM Dataset"
      ],
      "metadata": {
        "id": "CZ894WrUUo8J"
      }
    },
    {
      "cell_type": "code",
      "source": [
        "# define movie features\n",
        "movie_features = []\n",
        "col = ['year'] * len(df_movies.year.unique())\n",
        "unique_values = list(df_movies.year.unique())\n",
        "for genre in genres:\n",
        "    col += [genre] * 2\n",
        "    unique_values += [True, False]\n",
        "\n",
        "for x,y in zip(col, unique_values):\n",
        "    res = str(x)+ \":\" +str(y)\n",
        "    movie_features.append(res)\n",
        "print(movie_features)"
      ],
      "metadata": {
        "execution": {
          "iopub.status.busy": "2022-04-04T15:59:37.243337Z",
          "iopub.status.idle": "2022-04-04T15:59:37.244415Z",
          "shell.execute_reply.started": "2022-04-04T15:59:37.244115Z",
          "shell.execute_reply": "2022-04-04T15:59:37.244143Z"
        },
        "trusted": true,
        "colab": {
          "base_uri": "https://localhost:8080/"
        },
        "id": "-BGlehfQUo8J",
        "outputId": "ba58f342-aec0-434c-f4b8-368377bf0554"
      },
      "execution_count": 46,
      "outputs": [
        {
          "output_type": "stream",
          "name": "stdout",
          "text": [
            "['year:1995', 'year:1994', 'year:1996', 'year:1976', 'year:1992', 'year:1988', 'year:1967', 'year:1993', 'year:1964', 'year:1977', 'year:1965', 'year:1982', 'year:1985', 'year:1990', 'year:1991', 'year:1989', 'year:1937', 'year:1940', 'year:1969', 'year:1981', 'year:1973', 'year:1970', 'year:1960', 'year:1955', 'year:1959', 'year:1968', 'year:1980', 'year:1975', 'year:1986', 'year:1948', 'year:1943', 'year:1950', 'year:1946', 'year:1987', 'year:1997', 'year:1974', 'year:1956', 'year:1958', 'year:1949', 'year:1972', 'year:1998', 'year:1933', 'year:1952', 'year:1951', 'year:1957', 'year:1961', 'year:1954', 'year:1934', 'year:1944', 'year:1963', 'year:1942', 'year:1941', 'year:1953', 'year:1939', 'year:1947', 'year:1945', 'year:1938', 'year:1935', 'year:1936', 'year:1926', 'year:1932', 'year:1979', 'year:1971', 'year:1978', 'year:1966', 'year:1962', 'year:1983', 'year:1984', 'year:1931', 'year:1922', 'year:1999', 'year:1927', 'year:1929', 'year:1930', 'year:1928', 'year:1925', 'year:1914', 'year:2000', 'year:1919', 'year:1923', 'year:1920', 'year:1918', 'year:1921', 'year:2001', 'year:1924', 'year:2002', 'year:2003', 'year:1915', 'year:2004', 'year:1916', 'year:1917', 'year:2005', 'year:2006', 'year:1902', 'year:1903', 'year:2007', 'year:2008', 'year:2009', 'year:1912', 'year:2010', 'year:1913', 'year:2011', 'year:1898', 'year:1899', 'year:1894', 'year:2012', 'year:1909', 'year:1910', 'year:1901', 'year:1893', 'year:2013', 'year:1896', 'year:2014', 'year:1895', 'year:2015', 'year:1900', 'year:1905', 'year:1891', 'Romance:True', 'Romance:False', 'Action:True', 'Action:False', 'Sci-Fi:True', 'Sci-Fi:False', 'Mystery:True', 'Mystery:False', 'Horror:True', 'Horror:False', 'Musical:True', 'Musical:False', 'Crime:True', 'Crime:False', 'Film-Noir:True', 'Film-Noir:False', 'IMAX:True', 'IMAX:False', 'War:True', 'War:False', 'Drama:True', 'Drama:False', 'Children:True', 'Children:False', 'Fantasy:True', 'Fantasy:False', 'Animation:True', 'Animation:False', '(no genres listed):True', '(no genres listed):False', 'Comedy:True', 'Comedy:False', 'Thriller:True', 'Thriller:False', 'Documentary:True', 'Documentary:False', 'Adventure:True', 'Adventure:False', 'Western:True', 'Western:False']\n"
          ]
        }
      ]
    },
    {
      "cell_type": "markdown",
      "source": [
        "### making dataset and sparse matrix"
      ],
      "metadata": {
        "id": "tY1u2nYqUo8J"
      }
    },
    {
      "cell_type": "code",
      "source": [
        "dataset = Dataset()\n",
        "dataset.fit(\n",
        "        df_rating_train['userId'].unique(), \n",
        "        df_movies['movieId'].unique(), \n",
        "        item_features = movie_features\n",
        ")"
      ],
      "metadata": {
        "execution": {
          "iopub.status.busy": "2022-04-04T15:59:37.245710Z",
          "iopub.status.idle": "2022-04-04T15:59:37.246392Z",
          "shell.execute_reply.started": "2022-04-04T15:59:37.246080Z",
          "shell.execute_reply": "2022-04-04T15:59:37.246111Z"
        },
        "trusted": true,
        "id": "u6f_zlVAUo8K"
      },
      "execution_count": 47,
      "outputs": []
    },
    {
      "cell_type": "code",
      "source": [
        "(interactions, weights) = dataset.build_interactions([(x[0], x[1], x[2]) for x in df_rating_train.values])"
      ],
      "metadata": {
        "execution": {
          "iopub.status.busy": "2022-04-04T15:59:37.248178Z",
          "iopub.status.idle": "2022-04-04T15:59:37.249031Z",
          "shell.execute_reply.started": "2022-04-04T15:59:37.248728Z",
          "shell.execute_reply": "2022-04-04T15:59:37.248757Z"
        },
        "trusted": true,
        "id": "_eRYUCk9Uo8K"
      },
      "execution_count": 48,
      "outputs": []
    },
    {
      "cell_type": "markdown",
      "source": [
        "### building movies features"
      ],
      "metadata": {
        "id": "bX2kUzhJUo8K"
      }
    },
    {
      "cell_type": "code",
      "source": [
        "features_names = list(genres) + ['year']\n",
        "\n",
        "movies_features = df_movies[features_names]\n",
        "values_list = [list(x) for x in movies_features.values]\n",
        "feature_list = []\n",
        "for values in values_list:\n",
        "    res = []\n",
        "    for x,y in zip(features_names,values):\n",
        "        res.append(str(x) +':'+ str(y))\n",
        "    feature_list.append(res)\n",
        "\n",
        "movies_tuple = list(zip(df_movies.movieId, feature_list))\n",
        "print(movies_tuple[0])"
      ],
      "metadata": {
        "execution": {
          "iopub.status.busy": "2022-04-04T15:59:37.250572Z",
          "iopub.status.idle": "2022-04-04T15:59:37.251061Z",
          "shell.execute_reply.started": "2022-04-04T15:59:37.250789Z",
          "shell.execute_reply": "2022-04-04T15:59:37.250814Z"
        },
        "trusted": true,
        "colab": {
          "base_uri": "https://localhost:8080/"
        },
        "id": "Crwe7X5kUo8K",
        "outputId": "033453b9-0e8d-4c32-a5a4-f64c161701bf"
      },
      "execution_count": 49,
      "outputs": [
        {
          "output_type": "stream",
          "name": "stdout",
          "text": [
            "(1, ['Romance:False', 'Action:False', 'Sci-Fi:False', 'Mystery:False', 'Horror:False', 'Musical:False', 'Crime:False', 'Film-Noir:False', 'IMAX:False', 'War:False', 'Drama:False', 'Children:True', 'Fantasy:True', 'Animation:True', '(no genres listed):False', 'Comedy:True', 'Thriller:False', 'Documentary:False', 'Adventure:True', 'Western:False', 'year:1995'])\n"
          ]
        }
      ]
    },
    {
      "cell_type": "code",
      "source": [
        "item_features = dataset.build_item_features(movies_tuple, normalize= False)\n",
        "item_features.todense()"
      ],
      "metadata": {
        "execution": {
          "iopub.status.busy": "2022-04-04T15:59:37.252653Z",
          "iopub.status.idle": "2022-04-04T15:59:37.253140Z",
          "shell.execute_reply.started": "2022-04-04T15:59:37.252879Z",
          "shell.execute_reply": "2022-04-04T15:59:37.252906Z"
        },
        "trusted": true,
        "colab": {
          "base_uri": "https://localhost:8080/"
        },
        "id": "kqgn0OvxUo8K",
        "outputId": "9d181c4a-b2e4-492e-c623-700656138e18"
      },
      "execution_count": 50,
      "outputs": [
        {
          "output_type": "execute_result",
          "data": {
            "text/plain": [
              "matrix([[1., 0., 0., ..., 0., 0., 1.],\n",
              "        [0., 1., 0., ..., 0., 0., 1.],\n",
              "        [0., 0., 1., ..., 1., 0., 1.],\n",
              "        ...,\n",
              "        [0., 0., 0., ..., 0., 0., 1.],\n",
              "        [0., 0., 0., ..., 1., 0., 1.],\n",
              "        [0., 0., 0., ..., 0., 0., 1.]], dtype=float32)"
            ]
          },
          "metadata": {},
          "execution_count": 50
        }
      ]
    },
    {
      "cell_type": "code",
      "source": [
        "user_id_map, user_feature_map, item_id_map, item_feature_map = dataset.mapping()\n",
        "items_inv_mapping = {v: k for k, v in item_id_map.items()}\n",
        "item_titles = pd.Series(df_movies['title'].values, index=df_movies['movieId']).to_dict()"
      ],
      "metadata": {
        "execution": {
          "iopub.status.busy": "2022-04-04T15:59:37.255225Z",
          "iopub.status.idle": "2022-04-04T15:59:37.256003Z",
          "shell.execute_reply.started": "2022-04-04T15:59:37.255715Z",
          "shell.execute_reply": "2022-04-04T15:59:37.255743Z"
        },
        "trusted": true,
        "id": "nmjgUpSHUo8K"
      },
      "execution_count": 51,
      "outputs": []
    },
    {
      "cell_type": "markdown",
      "source": [
        "### searching for best hyperparameters"
      ],
      "metadata": {
        "id": "mMKUTxUuUo8L"
      }
    },
    {
      "cell_type": "code",
      "source": [
        "def sample_hyperparameters():\n",
        "    \"\"\"\n",
        "    Yield possible hyperparameter choices.\n",
        "    \"\"\"\n",
        "    while True:\n",
        "        yield {\n",
        "            \"no_components\": np.random.choice([16, 32, 64]),\n",
        "            \"learning_schedule\": np.random.choice([\"adagrad\", \"adadelta\"]),\n",
        "            \"loss\": np.random.choice([\"bpr\", \"warp\"]),\n",
        "            \"learning_rate\": np.random.exponential(0.05),\n",
        "            \"item_alpha\": np.random.exponential(1e-8),\n",
        "            \"num_epochs\": np.random.randint(5, 50),\n",
        "        }\n",
        "\n",
        "\n",
        "def random_search(train, test, num_samples=10):\n",
        "    \"\"\"\n",
        "    Sample random hyperparameters, fit a LightFM model, and evaluate it\n",
        "    on the test set.\n",
        "    \n",
        "    \"\"\"\n",
        "\n",
        "    for hyperparams in itertools.islice(sample_hyperparameters(), num_samples):\n",
        "        num_epochs = hyperparams.pop(\"num_epochs\")\n",
        "\n",
        "        model = LightFM(**hyperparams)\n",
        "        model.fit(train, epochs=num_epochs)\n",
        "\n",
        "        score = precision_at_k(model, test, train_interactions=train, k = TOP_N).mean()\n",
        "\n",
        "        hyperparams[\"num_epochs\"] = num_epochs\n",
        "\n",
        "        yield (score, hyperparams, model)"
      ],
      "metadata": {
        "execution": {
          "iopub.status.busy": "2022-04-04T15:59:37.257382Z",
          "iopub.status.idle": "2022-04-04T15:59:37.257840Z",
          "shell.execute_reply.started": "2022-04-04T15:59:37.257671Z",
          "shell.execute_reply": "2022-04-04T15:59:37.257689Z"
        },
        "trusted": true,
        "id": "ACiJMmRiUo8L"
      },
      "execution_count": 52,
      "outputs": []
    },
    {
      "cell_type": "code",
      "source": [
        "train_int, val_int = random_train_test_split(interactions, test_percentage=0.2, random_state=42)\n",
        "(score, hyperparams, model) = max(random_search(train = train_int, test = val_int), key=lambda x: x[0])\n",
        "print(\"Best score {} at {}\".format(score, hyperparams))"
      ],
      "metadata": {
        "execution": {
          "iopub.status.busy": "2022-04-04T15:59:37.258735Z",
          "iopub.status.idle": "2022-04-04T15:59:37.259167Z",
          "shell.execute_reply.started": "2022-04-04T15:59:37.259002Z",
          "shell.execute_reply": "2022-04-04T15:59:37.259020Z"
        },
        "trusted": true,
        "colab": {
          "base_uri": "https://localhost:8080/"
        },
        "id": "c2fw7Es3Uo8L",
        "outputId": "f303d61a-1cdb-468d-d1a4-b071b547571e"
      },
      "execution_count": 53,
      "outputs": [
        {
          "output_type": "stream",
          "name": "stdout",
          "text": [
            "Best score 0.17169813811779022 at {'no_components': 64, 'learning_schedule': 'adagrad', 'loss': 'warp', 'learning_rate': 0.012756301658464348, 'item_alpha': 2.3377024830213853e-09, 'num_epochs': 39}\n"
          ]
        }
      ]
    },
    {
      "cell_type": "markdown",
      "source": [
        "### evaluating best model"
      ],
      "metadata": {
        "id": "ZMgXXqg0Uo8L"
      }
    },
    {
      "cell_type": "code",
      "source": [
        "nc, ls, loss, lr, item_alpha, num_epochs = hyperparams.values()\n",
        "model = LightFM(no_components=nc, learning_schedule=ls, loss=loss, learning_rate=lr, item_alpha=item_alpha)\n",
        "model.fit(interactions, \n",
        "      item_features= item_features, \n",
        "      sample_weight= weights, \n",
        "      epochs=num_epochs)\n",
        "\n",
        "train_auc = auc_score(model,\n",
        "                      interactions,\n",
        "                      item_features=item_features\n",
        "                     ).mean()\n",
        "print('lightFM training AUC: %s' % train_auc)"
      ],
      "metadata": {
        "execution": {
          "iopub.status.busy": "2022-04-04T15:59:37.260037Z",
          "iopub.status.idle": "2022-04-04T15:59:37.260462Z",
          "shell.execute_reply.started": "2022-04-04T15:59:37.260296Z",
          "shell.execute_reply": "2022-04-04T15:59:37.260313Z"
        },
        "trusted": true,
        "colab": {
          "base_uri": "https://localhost:8080/"
        },
        "id": "BPXyQHSkUo8L",
        "outputId": "f54c8d76-867b-4632-b68d-3c4ad3b23c55"
      },
      "execution_count": 54,
      "outputs": [
        {
          "output_type": "stream",
          "name": "stdout",
          "text": [
            "lightFM training AUC: 0.9939116\n"
          ]
        }
      ]
    },
    {
      "cell_type": "code",
      "source": [
        "users = df_rating_test['userId'].unique()\n",
        "titles = []\n",
        "movie_ids = []\n",
        "recs = pd.DataFrame({\n",
        "    'userId': df_rating_test['userId'].unique()\n",
        "})\n",
        "\n",
        "for user in users:\n",
        "    row_id = user_id_map[user]\n",
        "    pred = model.predict(row_id, list(item_id_map.values()), item_features=item_features)\n",
        "    top = np.argpartition(pred, -np.arange(TOP_N))[-TOP_N:][::-1]\n",
        "    ids = [items_inv_mapping[el] for el in top]\n",
        "    movie_ids.append(ids)\n",
        "    titles.append([item_titles[el] for el in ids]) \n",
        "\n",
        "recs = pd.DataFrame({\n",
        "    'userId': users,\n",
        "    'movieId': movie_ids,\n",
        "    'titles': titles\n",
        "})\n",
        "\n",
        "recs.drop('titles', inplace=True, axis=1)\n",
        "recs = recs.explode('movieId')\n",
        "recs['rank'] = recs.groupby('userId').cumcount() + 1"
      ],
      "metadata": {
        "execution": {
          "iopub.status.busy": "2022-04-04T15:59:37.261330Z",
          "iopub.status.idle": "2022-04-04T15:59:37.261766Z",
          "shell.execute_reply.started": "2022-04-04T15:59:37.261601Z",
          "shell.execute_reply": "2022-04-04T15:59:37.261618Z"
        },
        "trusted": true,
        "id": "YKEv9BZnUo8L"
      },
      "execution_count": 55,
      "outputs": []
    },
    {
      "cell_type": "code",
      "source": [
        "metrics = compute_metrics(df_rating_test, recs, TOP_N)\n",
        "metrics"
      ],
      "metadata": {
        "execution": {
          "iopub.status.busy": "2022-04-04T15:59:37.262618Z",
          "iopub.status.idle": "2022-04-04T15:59:37.263038Z",
          "shell.execute_reply.started": "2022-04-04T15:59:37.262875Z",
          "shell.execute_reply": "2022-04-04T15:59:37.262893Z"
        },
        "trusted": true,
        "colab": {
          "base_uri": "https://localhost:8080/"
        },
        "id": "rx8BLEC1Uo8M",
        "outputId": "fa642ed1-748f-4f31-a1bd-f0521ae941ca"
      },
      "execution_count": 56,
      "outputs": [
        {
          "output_type": "execute_result",
          "data": {
            "text/plain": [
              "Precision@1     0.285714\n",
              "Recall@1        0.002803\n",
              "Precision@2     0.214286\n",
              "Recall@2        0.003886\n",
              "Precision@3     0.238095\n",
              "Recall@3        0.006689\n",
              "Precision@4     0.214286\n",
              "Recall@4        0.007771\n",
              "Precision@5     0.200000\n",
              "Recall@5        0.008854\n",
              "Precision@6     0.238095\n",
              "Recall@6        0.011949\n",
              "Precision@7     0.224490\n",
              "Recall@7        0.013670\n",
              "Precision@8     0.214286\n",
              "Recall@8        0.015391\n",
              "Precision@9     0.222222\n",
              "Recall@9        0.018194\n",
              "Precision@10    0.214286\n",
              "Recall@10       0.019277\n",
              "MAP@10          0.015186\n",
              "MRR             0.309524\n",
              "dtype: float64"
            ]
          },
          "metadata": {},
          "execution_count": 56
        }
      ]
    }
  ]
}